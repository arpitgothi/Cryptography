{
  "nbformat": 4,
  "nbformat_minor": 0,
  "metadata": {
    "colab": {
      "name": "AES.ipynb",
      "provenance": [],
      "authorship_tag": "ABX9TyPUDrVWwD3w262CWLImcJ2Y",
      "include_colab_link": true
    },
    "kernelspec": {
      "name": "python3",
      "display_name": "Python 3"
    }
  },
  "cells": [
    {
      "cell_type": "markdown",
      "metadata": {
        "id": "view-in-github",
        "colab_type": "text"
      },
      "source": [
        "<a href=\"https://colab.research.google.com/github/arpitgothi/Cryptography/blob/master/AES.ipynb\" target=\"_parent\"><img src=\"https://colab.research.google.com/assets/colab-badge.svg\" alt=\"Open In Colab\"/></a>"
      ]
    },
    {
      "cell_type": "code",
      "metadata": {
        "id": "SW4wioNYG5hb",
        "colab_type": "code",
        "outputId": "3e6393aa-cf56-451e-8925-1932279451fe",
        "colab": {
          "base_uri": "https://localhost:8080/",
          "height": 213
        }
      },
      "source": [
        "pip install pycrypto\n",
        "pip install AESencrypt"
      ],
      "execution_count": 0,
      "outputs": [
        {
          "output_type": "stream",
          "text": [
            "Collecting pycrypto\n",
            "\u001b[?25l  Downloading https://files.pythonhosted.org/packages/60/db/645aa9af249f059cc3a368b118de33889219e0362141e75d4eaf6f80f163/pycrypto-2.6.1.tar.gz (446kB)\n",
            "\r\u001b[K     |▊                               | 10kB 14.7MB/s eta 0:00:01\r\u001b[K     |█▌                              | 20kB 1.8MB/s eta 0:00:01\r\u001b[K     |██▏                             | 30kB 2.3MB/s eta 0:00:01\r\u001b[K     |███                             | 40kB 1.7MB/s eta 0:00:01\r\u001b[K     |███▊                            | 51kB 1.9MB/s eta 0:00:01\r\u001b[K     |████▍                           | 61kB 2.3MB/s eta 0:00:01\r\u001b[K     |█████▏                          | 71kB 2.4MB/s eta 0:00:01\r\u001b[K     |█████▉                          | 81kB 2.6MB/s eta 0:00:01\r\u001b[K     |██████▋                         | 92kB 2.9MB/s eta 0:00:01\r\u001b[K     |███████▍                        | 102kB 2.8MB/s eta 0:00:01\r\u001b[K     |████████                        | 112kB 2.8MB/s eta 0:00:01\r\u001b[K     |████████▉                       | 122kB 2.8MB/s eta 0:00:01\r\u001b[K     |█████████▌                      | 133kB 2.8MB/s eta 0:00:01\r\u001b[K     |██████████▎                     | 143kB 2.8MB/s eta 0:00:01\r\u001b[K     |███████████                     | 153kB 2.8MB/s eta 0:00:01\r\u001b[K     |███████████▊                    | 163kB 2.8MB/s eta 0:00:01\r\u001b[K     |████████████▌                   | 174kB 2.8MB/s eta 0:00:01\r\u001b[K     |█████████████▏                  | 184kB 2.8MB/s eta 0:00:01\r\u001b[K     |██████████████                  | 194kB 2.8MB/s eta 0:00:01\r\u001b[K     |██████████████▊                 | 204kB 2.8MB/s eta 0:00:01\r\u001b[K     |███████████████▍                | 215kB 2.8MB/s eta 0:00:01\r\u001b[K     |████████████████▏               | 225kB 2.8MB/s eta 0:00:01\r\u001b[K     |█████████████████               | 235kB 2.8MB/s eta 0:00:01\r\u001b[K     |█████████████████▋              | 245kB 2.8MB/s eta 0:00:01\r\u001b[K     |██████████████████▍             | 256kB 2.8MB/s eta 0:00:01\r\u001b[K     |███████████████████             | 266kB 2.8MB/s eta 0:00:01\r\u001b[K     |███████████████████▉            | 276kB 2.8MB/s eta 0:00:01\r\u001b[K     |████████████████████▋           | 286kB 2.8MB/s eta 0:00:01\r\u001b[K     |█████████████████████▎          | 296kB 2.8MB/s eta 0:00:01\r\u001b[K     |██████████████████████          | 307kB 2.8MB/s eta 0:00:01\r\u001b[K     |██████████████████████▊         | 317kB 2.8MB/s eta 0:00:01\r\u001b[K     |███████████████████████▌        | 327kB 2.8MB/s eta 0:00:01\r\u001b[K     |████████████████████████▎       | 337kB 2.8MB/s eta 0:00:01\r\u001b[K     |█████████████████████████       | 348kB 2.8MB/s eta 0:00:01\r\u001b[K     |█████████████████████████▊      | 358kB 2.8MB/s eta 0:00:01\r\u001b[K     |██████████████████████████▍     | 368kB 2.8MB/s eta 0:00:01\r\u001b[K     |███████████████████████████▏    | 378kB 2.8MB/s eta 0:00:01\r\u001b[K     |████████████████████████████    | 389kB 2.8MB/s eta 0:00:01\r\u001b[K     |████████████████████████████▋   | 399kB 2.8MB/s eta 0:00:01\r\u001b[K     |█████████████████████████████▍  | 409kB 2.8MB/s eta 0:00:01\r\u001b[K     |██████████████████████████████  | 419kB 2.8MB/s eta 0:00:01\r\u001b[K     |██████████████████████████████▉ | 430kB 2.8MB/s eta 0:00:01\r\u001b[K     |███████████████████████████████▋| 440kB 2.8MB/s eta 0:00:01\r\u001b[K     |████████████████████████████████| 450kB 2.8MB/s \n",
            "\u001b[?25hBuilding wheels for collected packages: pycrypto\n",
            "  Building wheel for pycrypto (setup.py) ... \u001b[?25l\u001b[?25hdone\n",
            "  Created wheel for pycrypto: filename=pycrypto-2.6.1-cp36-cp36m-linux_x86_64.whl size=499939 sha256=baf31d55e1005f56cb7ef3346076ebd15ceac4b98c5e5172de002985e2077c02\n",
            "  Stored in directory: /root/.cache/pip/wheels/27/02/5e/77a69d0c16bb63c6ed32f5386f33a2809c94bd5414a2f6c196\n",
            "Successfully built pycrypto\n",
            "Installing collected packages: pycrypto\n",
            "Successfully installed pycrypto-2.6.1\n"
          ],
          "name": "stdout"
        }
      ]
    },
    {
      "cell_type": "code",
      "metadata": {
        "id": "6E9-_kPlJJxI",
        "colab_type": "code",
        "colab": {}
      },
      "source": [
        "from Crypto import Random\n",
        "from Crypto.Cipher import AES\n",
        "import os\n",
        "import os.path\n",
        "from os import listdir\n",
        "from os.path import isfile, join\n",
        "import time\n",
        "\n",
        "\n",
        "class Encryptor:\n",
        "    def __init__(self, key):\n",
        "        self.key = key\n",
        "\n",
        "    def pad(self, s):\n",
        "        return s + b\"\\0\" * (AES.block_size - len(s) % AES.block_size)\n",
        "\n",
        "    def encrypt(self, message, key, key_size=256):\n",
        "        message = self.pad(message)\n",
        "        iv = Random.new().read(AES.block_size)\n",
        "        cipher = AES.new(key, AES.MODE_CBC, iv)\n",
        "        return iv + cipher.encrypt(message)\n",
        "\n",
        "    def encrypt_file(self, file_name):\n",
        "        with open(file_name, 'rb') as fo:\n",
        "            plaintext = fo.read()\n",
        "        enc = self.encrypt(plaintext, self.key)\n",
        "        with open(file_name + \".enc\", 'wb') as fo:\n",
        "            fo.write(enc)\n",
        "        os.remove(file_name)\n",
        "\n",
        "    def decrypt(self, ciphertext, key):\n",
        "        iv = ciphertext[:AES.block_size]\n",
        "        cipher = AES.new(key, AES.MODE_CBC, iv)\n",
        "        plaintext = cipher.decrypt(ciphertext[AES.block_size:])\n",
        "        return plaintext.rstrip(b\"\\0\")\n",
        "\n",
        "    def decrypt_file(self, file_name):\n",
        "        with open(file_name, 'rb') as fo:\n",
        "            ciphertext = fo.read()\n",
        "        dec = self.decrypt(ciphertext, self.key)\n",
        "        with open(file_name[:-4], 'wb') as fo:\n",
        "            fo.write(dec)\n",
        "        os.remove(file_name)\n",
        "\n",
        "    def getAllFiles(self):\n",
        "        dir_path = os.path.dirname(os.path.realpath(__file__))\n",
        "        dirs = []\n",
        "        for dirName, subdirList, fileList in os.walk(dir_path):\n",
        "            for fname in fileList:\n",
        "                if (fname != 'script.py' and fname != 'data.txt.enc'):\n",
        "                    dirs.append(dirName + \"\\\\\" + fname)\n",
        "        return dirs\n",
        "\n",
        "    def encrypt_all_files(self):\n",
        "        dirs = self.getAllFiles()\n",
        "        for file_name in dirs:\n",
        "            self.encrypt_file(file_name)\n",
        "\n",
        "    def decrypt_all_files(self):\n",
        "        dirs = self.getAllFiles()\n",
        "        for file_name in dirs:\n",
        "            self.decrypt_file(file_name)\n",
        "\n",
        "\n",
        "key = b'[EX\\xc8\\xd5\\xbfI{\\xa2$\\x05(\\xd5\\x18\\xbf\\xc0\\x85)\\x10nc\\x94\\x02)j\\xdf\\xcb\\xc4\\x94\\x9d(\\x9e'\n",
        "enc = Encryptor(key)\n",
        "clear = lambda: os.system('cls')\n",
        "\n",
        "if os.path.isfile('data.txt.enc'):\n",
        "    while True:\n",
        "        password = str(input(\"Enter password: \"))\n",
        "        enc.decrypt_file(\"data.txt.enc\")\n",
        "        p = ''\n",
        "        with open(\"data.txt\", \"r\") as f:\n",
        "            p = f.readlines()\n",
        "        if p[0] == password:\n",
        "            enc.encrypt_file(\"data.txt\")\n",
        "            break\n",
        "\n",
        "    while True:\n",
        "        clear()\n",
        "        choice = int(input(\n",
        "            \"1. Press '1' to encrypt file.\\n2. Press '2' to decrypt file.\\n3. Press '3' to Encrypt all files in the directory.\\n4. Press '4' to decrypt all files in the directory.\\n5. Press '5' to exit.\\n\"))\n",
        "        clear()\n",
        "        if choice == 1:\n",
        "            enc.encrypt_file(str(input(\"Enter name of file to encrypt: \")))\n",
        "        elif choice == 2:\n",
        "            enc.decrypt_file(str(input(\"Enter name of file to decrypt: \")))\n",
        "        elif choice == 3:\n",
        "            enc.encrypt_all_files()\n",
        "        elif choice == 4:\n",
        "            enc.decrypt_all_files()\n",
        "        elif choice == 5:\n",
        "            exit()\n",
        "        else:\n",
        "            print(\"Please select a valid option!\")\n",
        "\n",
        "else:\n",
        "    while True:\n",
        "        clear()\n",
        "        password = str(input(\"Setting up stuff. Enter a password that will be used for decryption: \"))\n",
        "        repassword = str(input(\"Confirm password: \"))\n",
        "        if password == repassword:\n",
        "            break\n",
        "        else:\n",
        "            print(\"Passwords Mismatched!\")\n",
        "    f = open(\"data.txt\", \"w+\")\n",
        "    f.write(password)\n",
        "    f.close()\n",
        "    enc.encrypt_file(\"data.txt\")\n",
        "    print(\"Please restart the program to complete the setup\")\n",
        "    time.sleep(15)"
      ],
      "execution_count": 0,
      "outputs": []
    },
    {
      "cell_type": "code",
      "metadata": {
        "id": "YHqSs3M6NUR3",
        "colab_type": "code",
        "colab": {}
      },
      "source": [
        ""
      ],
      "execution_count": 0,
      "outputs": []
    }
  ]
}